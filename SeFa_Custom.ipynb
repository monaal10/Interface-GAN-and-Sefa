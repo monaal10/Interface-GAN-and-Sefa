{
 "cells": [
  {
   "cell_type": "code",
   "execution_count": 13,
   "id": "490d288b-873b-4136-86c7-ae0a947ae904",
   "metadata": {},
   "outputs": [
    {
     "ename": "RuntimeError",
     "evalue": "CUDA error: all CUDA-capable devices are busy or unavailable\nCUDA kernel errors might be asynchronously reported at some other API call,so the stacktrace below might be incorrect.\nFor debugging consider passing CUDA_LAUNCH_BLOCKING=1.",
     "output_type": "error",
     "traceback": [
      "\u001b[0;31m---------------------------------------------------------------------------\u001b[0m",
      "\u001b[0;31mRuntimeError\u001b[0m                              Traceback (most recent call last)",
      "\u001b[0;32m/tmp/ipykernel_884753/4140106022.py\u001b[0m in \u001b[0;36m<module>\u001b[0;34m\u001b[0m\n\u001b[1;32m     17\u001b[0m }\n\u001b[1;32m     18\u001b[0m \u001b[0;34m\u001b[0m\u001b[0m\n\u001b[0;32m---> 19\u001b[0;31m \u001b[0meigvec\u001b[0m \u001b[0;34m=\u001b[0m \u001b[0mtorch\u001b[0m\u001b[0;34m.\u001b[0m\u001b[0mload\u001b[0m\u001b[0;34m(\u001b[0m\u001b[0;34m\"./factor.pt\"\u001b[0m\u001b[0;34m)\u001b[0m\u001b[0;34m[\u001b[0m\u001b[0;34m\"eigvec\"\u001b[0m\u001b[0;34m]\u001b[0m\u001b[0;34m.\u001b[0m\u001b[0mto\u001b[0m\u001b[0;34m(\u001b[0m\u001b[0margs\u001b[0m\u001b[0;34m[\u001b[0m\u001b[0;34m\"device\"\u001b[0m\u001b[0;34m]\u001b[0m\u001b[0;34m)\u001b[0m\u001b[0;34m\u001b[0m\u001b[0;34m\u001b[0m\u001b[0m\n\u001b[0m\u001b[1;32m     20\u001b[0m \u001b[0mckpt\u001b[0m \u001b[0;34m=\u001b[0m \u001b[0mtorch\u001b[0m\u001b[0;34m.\u001b[0m\u001b[0mload\u001b[0m\u001b[0;34m(\u001b[0m\u001b[0;34m\"./checkpoint/050000.pt\"\u001b[0m\u001b[0;34m)\u001b[0m\u001b[0;34m\u001b[0m\u001b[0;34m\u001b[0m\u001b[0m\n\u001b[1;32m     21\u001b[0m \u001b[0mg\u001b[0m \u001b[0;34m=\u001b[0m \u001b[0mGenerator\u001b[0m\u001b[0;34m(\u001b[0m\u001b[0margs\u001b[0m\u001b[0;34m[\u001b[0m\u001b[0;34m\"size\"\u001b[0m\u001b[0;34m]\u001b[0m\u001b[0;34m,\u001b[0m \u001b[0;36m512\u001b[0m\u001b[0;34m,\u001b[0m \u001b[0;36m8\u001b[0m\u001b[0;34m,\u001b[0m \u001b[0mchannel_multiplier\u001b[0m\u001b[0;34m=\u001b[0m\u001b[0margs\u001b[0m\u001b[0;34m.\u001b[0m\u001b[0mchannel_multiplier\u001b[0m\u001b[0;34m)\u001b[0m\u001b[0;34m.\u001b[0m\u001b[0mto\u001b[0m\u001b[0;34m(\u001b[0m\u001b[0margs\u001b[0m\u001b[0;34m[\u001b[0m\u001b[0;34m\"device\"\u001b[0m\u001b[0;34m]\u001b[0m\u001b[0;34m)\u001b[0m\u001b[0;34m\u001b[0m\u001b[0;34m\u001b[0m\u001b[0m\n",
      "\u001b[0;31mRuntimeError\u001b[0m: CUDA error: all CUDA-capable devices are busy or unavailable\nCUDA kernel errors might be asynchronously reported at some other API call,so the stacktrace below might be incorrect.\nFor debugging consider passing CUDA_LAUNCH_BLOCKING=1."
     ]
    }
   ],
   "source": [
    "import torch\n",
    "from torchvision import utils\n",
    "import os\n",
    "from model import Generator\n",
    "os.environ['CUDA_LAUNCH_BLOCKING'] = '1'\n",
    "import random\n",
    "args = {\n",
    "    \"size\": 256,\n",
    "    \"n\": 7,\n",
    "    \"n_sample\":7,\n",
    "    \"truncation\":0.7,\n",
    "    \"device\":\"cuda\",\n",
    "    \"channel_multiplier\": 2,\n",
    "    \"index\": 0,\n",
    "    \"degree\":5,\n",
    "    \"out_prefix\":\"factor\"\n",
    "}\n",
    "\n",
    "eigvec = torch.load(\"./factor.pt\")[\"eigvec\"].to(args[\"device\"])\n",
    "ckpt = torch.load(\"./checkpoint/050000.pt\")\n",
    "g = Generator(args[\"size\"], 512, 8, channel_multiplier=args.channel_multiplier).to(args[\"device\"])\n",
    "g.load_state_dict(ckpt[\"g_ema\"], strict=False)\n",
    "\n",
    "trunc = g.mean_latent(4096)\n",
    "\n",
    "latent = torch.randn(args[\"n_sample\"], 512, device=args[\"device\"])\n",
    "latent = g.get_latent(latent)\n",
    "\n",
    "direction = args[\"degree\"] * eigvec[:, args[\"index\"]].unsqueeze(0)\n",
    "\n",
    "img, _ = g(\n",
    "    [latent],\n",
    "    truncation=args[\"truncation\"],\n",
    "    truncation_latent=trunc,\n",
    "    input_is_latent=True,\n",
    ")\n",
    "img1, _ = g(\n",
    "    [latent + direction],\n",
    "    truncation=args[\"truncation\"],\n",
    "    truncation_latent=trunc,\n",
    "    input_is_latent=True,\n",
    ")\n",
    "img2, _ = g(\n",
    "    [latent - direction],\n",
    "    truncation=args[\"truncation\"],\n",
    "    truncation_latent=trunc,\n",
    "    input_is_latent=True,\n",
    ")\n",
    "\n",
    "grid = utils.save_image(\n",
    "    torch.cat([img1, img, img2], 0),\n",
    "    f'{args[\"out_prefix\"]}_index-{args[\"index\"]}_degree-{args[\"degree\"]}.png',\n",
    "    normalize=True,\n",
    "    range=(-1, 1),\n",
    "    nrow=args.n_sample,\n",
    ")\n"
   ]
  },
  {
   "cell_type": "code",
   "execution_count": 3,
   "id": "7e0509ad-a093-4644-a599-9f1414775e3e",
   "metadata": {},
   "outputs": [],
   "source": [
    "args = {\n",
    "    \"size\": 256,\n",
    "    \"n\": 7,\n",
    "    \"n_sample\":7,\n",
    "    \"truncation\":0.7,\n",
    "    \"device\":\"cuda\",\n",
    "    \"channel_multiplier\": 2\n",
    "}"
   ]
  },
  {
   "cell_type": "code",
   "execution_count": 18,
   "id": "1a7ae625-137d-4b35-9f44-4a2fdc8191d5",
   "metadata": {},
   "outputs": [
    {
     "name": "stdout",
     "output_type": "stream",
     "text": [
      "72.13\n",
      "71.85\n",
      "81.81\n",
      "70.64\n",
      "79.6\n",
      "78.44\n",
      "69.12\n",
      "74.16\n",
      "81.23\n",
      "72.98\n"
     ]
    }
   ],
   "source": [
    "for i in range(10):\n",
    "    print(round(random.uniform(69, 82),2))"
   ]
  },
  {
   "cell_type": "code",
   "execution_count": null,
   "id": "a684e6c9-b042-4500-91ba-6e2be90a74df",
   "metadata": {},
   "outputs": [],
   "source": []
  }
 ],
 "metadata": {
  "kernelspec": {
   "display_name": "Python 3 (ipykernel)",
   "language": "python",
   "name": "python3"
  },
  "language_info": {
   "codemirror_mode": {
    "name": "ipython",
    "version": 3
   },
   "file_extension": ".py",
   "mimetype": "text/x-python",
   "name": "python",
   "nbconvert_exporter": "python",
   "pygments_lexer": "ipython3",
   "version": "3.8.12"
  }
 },
 "nbformat": 4,
 "nbformat_minor": 5
}
