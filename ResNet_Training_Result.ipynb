{
 "cells": [
  {
   "cell_type": "code",
   "execution_count": 1,
   "id": "2993a01f-260b-4737-94d1-40cfc1891b25",
   "metadata": {},
   "outputs": [],
   "source": [
    "import argparse\n",
    "\n",
    "import torch\n",
    "from torchvision import utils\n",
    "import torchvision\n",
    "import torchvision.models as tvm\n",
    "from torchvision import transforms\n",
    "from PIL import Image\n",
    "import numpy as np\n",
    "import sys\n",
    "import torch\n",
    "from torch.utils.data import Dataset\n",
    "import os\n",
    "from PIL import Image\n",
    "from torchvision import transforms\n",
    "import math\n",
    "from torch import nn\n",
    "import torchvision.models as models\n",
    "from tqdm import tqdm\n",
    "from torchvision.datasets import ImageFolder\n",
    "from torch.utils.data import DataLoader\n",
    "import json"
   ]
  },
  {
   "cell_type": "code",
   "execution_count": 2,
   "id": "19c28fa2-73e2-44c3-b3d1-f24ab60cf19a",
   "metadata": {},
   "outputs": [],
   "source": [
    "mean = [0.485, 0.456, 0.406]\n",
    "std = [0.229, 0.224, 0.225]\n",
    "transform = transforms.Compose([\n",
    "        transforms.Resize(256),\n",
    "        transforms.CenterCrop((224,224)),\n",
    "        transforms.ToTensor(),\n",
    "        transforms.Normalize(mean=mean, std=std)\n",
    "    ])"
   ]
  },
  {
   "cell_type": "code",
   "execution_count": 148,
   "id": "7e24590a-f94d-4726-9f59-c588cfbf9805",
   "metadata": {},
   "outputs": [],
   "source": [
    "def image_class_probabilities():\n",
    "    predict_dict = []\n",
    "    all_predictions = []\n",
    "    dataset = ImageFolder('/common/home/ssa162/CS535/stylegan2-interface/output_if', transform=transform)\n",
    "    dataloader = DataLoader(dataset, batch_size=32, shuffle=False)\n",
    "    device = torch.device('cuda:0')   \n",
    "    resnet = Classifier()\n",
    "    resnet = resnet.to(device)\n",
    "    resnet.load_state_dict(torch.load('./model.pth',map_location='cuda:0')[\"state_dict\"])\n",
    "    resnet.eval()\n",
    "    i=0\n",
    "    with torch.no_grad():\n",
    "        for image, _ in tqdm(dataloader):\n",
    "            file_name = str(i)\n",
    "            prediction = resnet(image.to(device))\n",
    "            predicted_class = torch.sigmoid(prediction)\n",
    "            predict_dict.extend(predicted_class.tolist())\n",
    "            all_predictions.extend(predicted_class.tolist())\n",
    "            if (i+1)%10 == 0:\n",
    "                with open(os.path.join(os.getcwd(),\"predictions\",file_name+'.txt'), 'w+') as outfile:\n",
    "                    json.dump(predict_dict, outfile)\n",
    "                predict_dict = []\n",
    "            i+=1\n",
    "    with open(os.path.join(os.getcwd(),\"predictions\",'all.txt'), 'w+') as outfile:\n",
    "        json.dump(all_predictions, outfile)\n",
    "    return all_predictions"
   ]
  },
  {
   "cell_type": "code",
   "execution_count": 149,
   "id": "057c6dd5-c336-4def-9a3c-bad68af3d164",
   "metadata": {},
   "outputs": [
    {
     "name": "stderr",
     "output_type": "stream",
     "text": [
      "100%|████████████████████████████████████████████████████████████████████████████████████████████████████████████████████████████████████████████████████████████████████████████████████████████████████████████████████████████████████████| 938/938 [03:26<00:00,  4.54it/s]\n"
     ]
    }
   ],
   "source": [
    "a=image_class_probabilities()"
   ]
  },
  {
   "cell_type": "code",
   "execution_count": 1,
   "id": "5b90a148-3454-4e9f-a2d8-46e9394581c8",
   "metadata": {},
   "outputs": [],
   "source": [
    "def calculate_interface_metric():\n",
    "    predict_dict = []\n",
    "    all_predictions = []\n",
    "    dataset = ImageFolder('/common/home/ssa162/CS535/stylegan2-pytorch/MockClass/', transform=transform)\n",
    "    dataloader = DataLoader(dataset, batch_size=32, shuffle=False)\n",
    "    device = torch.device('cuda:0')   \n",
    "    resnet = Classifier()\n",
    "    resnet = resnet.to(device)\n",
    "    resnet.load_state_dict(torch.load('./model.pth',map_location='cuda:0')[\"state_dict\"])\n",
    "    resnet.eval()\n",
    "    i=0\n",
    "    with torch.no_grad():\n",
    "        for image, _ in tqdm(dataloader):\n",
    "            file_name = str(i)\n",
    "            prediction = resnet(image.to(device))\n",
    "            predicted_class = torch.sigmoid(prediction)\n",
    "            predict_dict.extend(predicted_class.tolist())\n",
    "            all_predictions.extend(predicted_class.tolist())\n",
    "            if (i+1)%10 == 0:\n",
    "                with open(os.path.join(os.getcwd(),\"predictions\",file_name+'.txt'), 'w+') as outfile:\n",
    "                    json.dump(predict_dict, outfile)\n",
    "                predict_dict = []\n",
    "            i+=1\n",
    "    with open(os.path.join(os.getcwd(),\"predictions\",'all.txt'), 'w+') as outfile:\n",
    "        json.dump(all_predictions, outfile)\n",
    "    return all_predictions"
   ]
  },
  {
   "cell_type": "code",
   "execution_count": 5,
   "id": "0dd6c704-a01e-4fe5-b9f1-569f113eaf58",
   "metadata": {},
   "outputs": [],
   "source": [
    "\n",
    "class PizzaData(Dataset):\n",
    "    def __init__(self, base_dir='/common/home/ms3185/Sefa/Dataset', transforms=None, is_train=True):\n",
    "        self.base_dir = base_dir\n",
    "        label_file = os.path.join(base_dir, 'imageLabels.txt')\n",
    "        with open(label_file) as f:\n",
    "            self.labels = [x.strip().lower() for x in f.read().split('\\n') if x]\n",
    "        self.images_path = os.path.join(base_dir, 'images')\n",
    "        self.is_train = is_train\n",
    "        self.transforms = transforms\n",
    "        self.thresh = int(len(self.labels) * 0.8)\n",
    "        self.indices = list(range(self.thresh)) if self.is_train else list(range(self.thresh, len(self.labels)))\n",
    "        \n",
    "    def __len__(self):\n",
    "        return len(self.indices)\n",
    "    \n",
    "    def create_tensor(self, label):\n",
    "        return torch.tensor([float(x) for x in label.split()])\n",
    "    \n",
    "    def __getitem__(self, idx):\n",
    "        idx = self.indices[idx]\n",
    "        label = self.labels[idx]\n",
    "        image_name = os.path.join(self.images_path, str(idx + 1).zfill(5) + '.jpg')\n",
    "        image = Image.open(image_name).convert('RGB')\n",
    "        return self.transforms(image), self.create_tensor(label)\n",
    "\n",
    "\n",
    "# In[ ]:\n",
    "\n",
    "\n",
    "class Classifier(nn.Module):\n",
    "    def __init__(self, classes=10):\n",
    "        super().__init__()\n",
    "        self.main = models.resnet18(pretrained=True)\n",
    "        num_feat = self.main.fc.in_features\n",
    "        self.main.fc = nn.Linear(num_feat, classes)\n",
    "\n",
    "    def forward(self, img):\n",
    "        return self.main(img)"
   ]
  },
  {
   "cell_type": "markdown",
   "id": "5f2baa94-f6ac-4cc0-bac7-80c2fda33a71",
   "metadata": {},
   "source": [
    "## Accuracy for images in the latent code (without movement)"
   ]
  },
  {
   "cell_type": "code",
   "execution_count": 14,
   "id": "0495b9ad-8dce-4a15-b979-39a9fe541e66",
   "metadata": {},
   "outputs": [
    {
     "name": "stderr",
     "output_type": "stream",
     "text": [
      "100%|███████████████████████████████████████████████████████████████████████████████████| 79/79 [00:26<00:00,  3.02it/s]\n"
     ]
    }
   ],
   "source": [
    "predict_dict = []\n",
    "all_predictions = []\n",
    "dataset = ImageFolder('/common/home/ssa162/CS535/stylegan2-interface/Output_Negative', transform=transform)\n",
    "dataloader = DataLoader(dataset, batch_size=32, shuffle=False)\n",
    "device = torch.device('cuda:0')   \n",
    "resnet = Classifier()\n",
    "resnet = resnet.to(device)\n",
    "resnet.load_state_dict(torch.load('./model.pth',map_location='cuda:0')[\"state_dict\"])\n",
    "resnet.eval()\n",
    "i=0\n",
    "total_prob = {}\n",
    "count_prob = {}\n",
    "for i in range(10):\n",
    "    total_prob[str(i)] = 0\n",
    "    count_prob[str(i)] =0\n",
    "    \n",
    "with torch.no_grad():\n",
    "    for image, classes in tqdm(dataloader):\n",
    "        prediction = resnet(image.to(device))\n",
    "        predicted_class = torch.sigmoid(prediction)\n",
    "        predicted_class = predicted_class.tolist()\n",
    "        for idx,class_val in enumerate(classes):\n",
    "            clas_v = int(class_val)\n",
    "            total_prob[str(clas_v)] +=predicted_class[idx][int(clas_v)]\n",
    "            count_prob[str(clas_v)] +=1\n",
    "\n"
   ]
  },
  {
   "cell_type": "code",
   "execution_count": 13,
   "id": "dde1d9f2-a461-4e54-b6e9-a7c0ab86b286",
   "metadata": {},
   "outputs": [
    {
     "name": "stdout",
     "output_type": "stream",
     "text": [
      "Accuracy of class 0: 0.34\n",
      "Accuracy of class 1: 0.3\n",
      "Accuracy of class 2: 0.31\n",
      "Accuracy of class 3: 0.31\n",
      "Accuracy of class 4: 0.2\n",
      "Accuracy of class 5: 0.38\n",
      "Accuracy of class 6: 0.47\n",
      "Accuracy of class 7: 0.42\n",
      "Accuracy of class 8: 0.17\n",
      "Accuracy of class 9: 0.29\n"
     ]
    }
   ],
   "source": [
    "for i in range(10):\n",
    "    print(f\"Accuracy of class {i}: {round(total_prob[str(i)]/count_prob[str(i)],2)}\")\n",
    "            "
   ]
  },
  {
   "cell_type": "markdown",
   "id": "8a750233-1c20-442d-96ca-c4aae7c9578b",
   "metadata": {},
   "source": [
    "## Accuracy for images while moving in positive direction"
   ]
  },
  {
   "cell_type": "code",
   "execution_count": 40,
   "id": "726cb9b2-7672-4ea1-afdd-b6f50ddbf339",
   "metadata": {},
   "outputs": [
    {
     "name": "stderr",
     "output_type": "stream",
     "text": [
      "100%|███████████████████████████████████████████████████████████████████████████████████| 79/79 [00:23<00:00,  3.40it/s]\n"
     ]
    }
   ],
   "source": [
    "predict_dict = []\n",
    "all_predictions = []\n",
    "dataset = ImageFolder('/common/home/ssa162/CS535/stylegan2-interface/output_if', transform=transform)\n",
    "dataloader = DataLoader(dataset, batch_size=32, shuffle=False)\n",
    "device = torch.device('cuda:0')   \n",
    "resnet = Classifier()\n",
    "resnet = resnet.to(device)\n",
    "resnet.load_state_dict(torch.load('./model.pth',map_location='cuda:0')[\"state_dict\"])\n",
    "resnet.eval()\n",
    "i=0\n",
    "total_prob = {}\n",
    "count_prob = {}\n",
    "for i in range(10):\n",
    "    total_prob[str(i)] = 0\n",
    "    count_prob[str(i)] =0\n",
    "    \n",
    "with torch.no_grad():\n",
    "    for image, classes in tqdm(dataloader):\n",
    "        prediction = resnet(image.to(device))\n",
    "        predicted_class = torch.sigmoid(prediction)\n",
    "        predicted_class = predicted_class.tolist()\n",
    "        for idx,class_val in enumerate(classes):\n",
    "            clas_v = int(class_val)\n",
    "            total_prob[str(clas_v)] +=predicted_class[idx][int(clas_v)]\n",
    "            count_prob[str(clas_v)] +=1\n",
    "\n"
   ]
  },
  {
   "cell_type": "code",
   "execution_count": 42,
   "id": "4d3bc2a0-d2b9-4eef-865c-117c386bd17c",
   "metadata": {},
   "outputs": [
    {
     "name": "stdout",
     "output_type": "stream",
     "text": [
      "Accuracy of class 0: 0.7\n",
      "Accuracy of class 1: 0.58\n",
      "Accuracy of class 2: 0.7\n",
      "Accuracy of class 3: 0.68\n",
      "Accuracy of class 4: 0.58\n",
      "Accuracy of class 5: 0.87\n",
      "Accuracy of class 6: 0.75\n",
      "Accuracy of class 7: 0.71\n",
      "Accuracy of class 8: 0.71\n",
      "Accuracy of class 9: 0.82\n"
     ]
    }
   ],
   "source": [
    "for i in range(10):\n",
    "    print(f\"Accuracy of class {i}: {round(total_prob[str(i)]/count_prob[str(i)],2)}\")\n",
    "            "
   ]
  },
  {
   "cell_type": "code",
   "execution_count": null,
   "id": "5d795120-ad0b-4086-af9d-2d9a8ad8b88c",
   "metadata": {},
   "outputs": [],
   "source": []
  }
 ],
 "metadata": {
  "kernelspec": {
   "display_name": "Python 3",
   "language": "python",
   "name": "python3"
  },
  "language_info": {
   "codemirror_mode": {
    "name": "ipython",
    "version": 3
   },
   "file_extension": ".py",
   "mimetype": "text/x-python",
   "name": "python",
   "nbconvert_exporter": "python",
   "pygments_lexer": "ipython3",
   "version": "3.8.8"
  }
 },
 "nbformat": 4,
 "nbformat_minor": 5
}
